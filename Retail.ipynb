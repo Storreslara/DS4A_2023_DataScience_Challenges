{
 "cells": [
  {
   "cell_type": "code",
   "execution_count": null,
   "id": "initial_id",
   "metadata": {
    "collapsed": true
   },
   "outputs": [],
   "source": [
    "import numpy as np\n",
    "import pandas as pd\n",
    "from plotly import express as px"
   ]
  },
  {
   "cell_type": "code",
   "execution_count": null,
   "outputs": [],
   "source": [
    "sheet1_df = pd.read_excel('online_retail_II.xlsx', sheet_name='p1')\n",
    "\n",
    "# Load data from the second sheet into another dataframe\n",
    "sheet2_df = pd.read_excel('online_retail_II.xlsx', sheet_name='p2')\n",
    "\n",
    "# Combine the two dataframes into one\n",
    "retail_df = pd.concat([sheet1_df, sheet2_df], ignore_index=True)"
   ],
   "metadata": {
    "collapsed": false
   },
   "id": "d09717773ab96089"
  },
  {
   "cell_type": "code",
   "execution_count": null,
   "outputs": [],
   "source": [
    "retail_df.head(20)"
   ],
   "metadata": {
    "collapsed": false
   },
   "id": "25319d8da77e6551"
  },
  {
   "cell_type": "code",
   "execution_count": null,
   "outputs": [],
   "source": [
    "retail_df.shape"
   ],
   "metadata": {
    "collapsed": false
   },
   "id": "8dd82e8b5d474824"
  },
  {
   "cell_type": "code",
   "execution_count": null,
   "outputs": [],
   "source": [
    "retail_df.info()"
   ],
   "metadata": {
    "collapsed": false
   },
   "id": "6cd3d5c1f282ad13"
  },
  {
   "cell_type": "code",
   "execution_count": null,
   "outputs": [],
   "source": [
    "n_unique_customer = retail_df['Customer ID'].nunique()\n",
    "print(f'Number of unique customers: {n_unique_customer}')"
   ],
   "metadata": {
    "collapsed": false
   },
   "id": "7e66127a31688d22"
  },
  {
   "cell_type": "code",
   "execution_count": null,
   "outputs": [],
   "source": [
    "# missing customer id count\n",
    "missing_customer_id = retail_df['Customer ID'].isnull().sum()\n",
    "print(f'Missing customer id count: {missing_customer_id}')"
   ],
   "metadata": {
    "collapsed": false
   },
   "id": "5f5b73bf4f89e81e"
  },
  {
   "cell_type": "code",
   "execution_count": null,
   "outputs": [],
   "source": [
    "# show 20 rows with missing customer id\n",
    "retail_df[retail_df['Customer ID'].isnull()].head(20)"
   ],
   "metadata": {
    "collapsed": false
   },
   "id": "469a2a3e219d42a0"
  },
  {
   "cell_type": "code",
   "execution_count": null,
   "outputs": [],
   "source": [
    "# quantity with negative values\n",
    "negative_quantity = retail_df[retail_df['Quantity'] < 0]\n",
    "print(f'Number of negative quantity: {negative_quantity.shape[0]}')\n",
    "# show 20 rows with negative quantity\n",
    "negative_quantity.head(20)"
   ],
   "metadata": {
    "collapsed": false
   },
   "id": "3537973983098f40"
  },
  {
   "cell_type": "code",
   "execution_count": null,
   "outputs": [],
   "source": [
    "retail_df"
   ],
   "metadata": {
    "collapsed": false
   },
   "id": "31a8dfb208c67c9d"
  },
  {
   "cell_type": "code",
   "execution_count": null,
   "outputs": [],
   "source": [
    "# number of unique products\n",
    "n_unique_product = retail_df['StockCode'].nunique()\n",
    "print(f'Number of unique products: {n_unique_product}')"
   ],
   "metadata": {
    "collapsed": false
   },
   "id": "3a4508f545ee785f"
  },
  {
   "cell_type": "code",
   "execution_count": null,
   "outputs": [],
   "source": [
    "# number of unique countries\n",
    "n_unique_country = retail_df['Country'].nunique()\n",
    "print(f'Number of unique countries: {n_unique_country}')\n",
    "# print countries list\n",
    "print(retail_df['Country'].unique())"
   ],
   "metadata": {
    "collapsed": false
   },
   "id": "cf28dbef8c119d24"
  },
  {
   "cell_type": "code",
   "execution_count": null,
   "outputs": [],
   "source": [
    "# countries with highest customer count\n",
    "customer_count = retail_df.groupby('Country')['Customer ID'].nunique().sort_values(ascending=False)\n",
    "customer_count"
   ],
   "metadata": {
    "collapsed": false
   },
   "id": "bb095254f4279519"
  },
  {
   "cell_type": "code",
   "execution_count": null,
   "outputs": [],
   "source": [
    "# which country has the highest customer count\n",
    "customer_count.idxmax()"
   ],
   "metadata": {
    "collapsed": false
   },
   "id": "608d6a563837a6fa"
  },
  {
   "cell_type": "code",
   "execution_count": null,
   "outputs": [],
   "source": [
    "px.line(retail_df.head(10000), x='InvoiceDate', y='Quantity', title='Quantity sold over time', color='Country')"
   ],
   "metadata": {
    "collapsed": false
   },
   "id": "ff7a20ef84214b4f"
  }
 ],
 "metadata": {
  "kernelspec": {
   "display_name": "Python 3",
   "language": "python",
   "name": "python3"
  },
  "language_info": {
   "codemirror_mode": {
    "name": "ipython",
    "version": 2
   },
   "file_extension": ".py",
   "mimetype": "text/x-python",
   "name": "python",
   "nbconvert_exporter": "python",
   "pygments_lexer": "ipython2",
   "version": "2.7.6"
  }
 },
 "nbformat": 4,
 "nbformat_minor": 5
}
